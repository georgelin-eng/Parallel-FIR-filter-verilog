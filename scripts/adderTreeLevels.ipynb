{
 "cells": [
  {
   "cell_type": "code",
   "execution_count": 2,
   "metadata": {},
   "outputs": [
    {
     "name": "stdout",
     "output_type": "stream",
     "text": [
      "reg [31:0] layer0Acc [order/2-1:0];\n",
      "reg [31:0] layer1Acc [order/4-1:0];\n",
      "reg [31:0] layer2Acc [order/8-1:0];\n",
      "reg [31:0] layer3Acc [order/16-1:0];\n",
      "reg [31:0] layer4Acc [order/32-1:0];\n",
      "\n",
      "integer i0, i1, i2, i3, i4, i5;\n"
     ]
    }
   ],
   "source": [
    "numLayers = 6\n",
    "order = 2 ** numLayers\n",
    "\n",
    "for layer in range (numLayers-1) :\n",
    "    print(f\"reg [31:0] layer{layer}Acc [order/{2**(layer+1)}-1:0];\")\n",
    "\n",
    "\n",
    "integerList = \"\"\n",
    "for layer in range(numLayers) :\n",
    "    integerList += f\"i{layer}, \"\n",
    "\n",
    "\n",
    "Str = integerList[:-2]\n",
    "print(f\"\\ninteger {Str};\")"
   ]
  },
  {
   "cell_type": "code",
   "execution_count": 3,
   "metadata": {},
   "outputs": [
    {
     "name": "stdout",
     "output_type": "stream",
     "text": [
      "always_comb begin\n",
      "    for (i0 = 0; i0 < order; i0=i0+2) begin \n",
      "        layer0Acc[i0/2] <= multiplyResult[i0]+multiplyResult[i0+1];\n",
      "    end\n",
      "    for (i1 = 0; i1 < order/2; i1=i1+2) begin\n",
      "        layer1Acc[i1/2] <= layer0Acc[i1] + layer0Acc[i1+1];\n",
      "    end\n",
      "    for (i2 = 0; i2 < order/4; i2=i2+2) begin\n",
      "        layer2Acc[i2/2] <= layer1Acc[i2] + layer1Acc[i2+1];\n",
      "    end\n",
      "    for (i3 = 0; i3 < order/8; i3=i3+2) begin\n",
      "        layer3Acc[i3/2] <= layer2Acc[i3] + layer2Acc[i3+1];\n",
      "    end\n",
      "    for (i4 = 0; i4 < order/16; i4=i4+2) begin\n",
      "        layer4Acc[i4/2] <= layer3Acc[i4] + layer3Acc[i4+1];\n",
      "    end\n",
      "end\n",
      "\n",
      "assign output_signal_y = layer4Acc[1] + layer4Acc[0];\n"
     ]
    }
   ],
   "source": [
    "# printing out adder tree stages\n",
    "\n",
    "print(\"always_comb begin\")\n",
    "print(\"    for (i0 = 0; i0 < order; i0=i0+2) begin \\n        layer0Acc[i0/2] <= multiplyResult[i0]+multiplyResult[i0+1];\\n    end\")\n",
    "for layer in range (1, numLayers-1) :\n",
    "    d = 2**(layer)\n",
    "    i = f\"i{layer}\"\n",
    "    print(f\"    for ({i} = 0; {i} < order/{d}; {i}={i}+2) begin\")\n",
    "    print(f\"        layer{layer}Acc[{i}/2] <= layer{layer-1}Acc[{i}] + layer{layer-1}Acc[{i}+1];\")\n",
    "    print(\"    end\")\n",
    "print(\"end\")\n",
    "\n",
    "print(f\"\\nassign output_signal_y = layer{numLayers-2}Acc[1] + layer{numLayers-2}Acc[0];\")"
   ]
  },
  {
   "cell_type": "code",
   "execution_count": null,
   "metadata": {},
   "outputs": [],
   "source": []
  }
 ],
 "metadata": {
  "kernelspec": {
   "display_name": "base",
   "language": "python",
   "name": "python3"
  },
  "language_info": {
   "codemirror_mode": {
    "name": "ipython",
    "version": 3
   },
   "file_extension": ".py",
   "mimetype": "text/x-python",
   "name": "python",
   "nbconvert_exporter": "python",
   "pygments_lexer": "ipython3",
   "version": "3.10.9"
  }
 },
 "nbformat": 4,
 "nbformat_minor": 2
}
