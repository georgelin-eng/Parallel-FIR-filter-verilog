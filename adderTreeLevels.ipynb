{
 "cells": [
  {
   "cell_type": "code",
   "execution_count": 81,
   "metadata": {},
   "outputs": [
    {
     "name": "stdout",
     "output_type": "stream",
     "text": [
      "reg [31:0] layer0Acc [order/1-1:0];\n",
      "reg [31:0] layer1Acc [order/2-1:0];\n",
      "reg [31:0] layer2Acc [order/4-1:0];\n",
      "reg [31:0] layer3Acc [order/8-1:0];\n",
      "reg [31:0] layer4Acc [order/16-1:0];\n",
      "reg [31:0] layer5Acc [order/32-1:0];\n",
      "\n",
      "integer i0, i1, i2, i3, i4, i5;\n"
     ]
    }
   ],
   "source": [
    "numLayers = 6\n",
    "order = 2 ** numLayers\n",
    "\n",
    "for layer in range (numLayers) :\n",
    "    print(f\"reg [31:0] layer{layer}Acc [order/{2**layer}-1:0];\")\n",
    "\n",
    "\n",
    "integerList = \"\"\n",
    "for layer in range(numLayers) :\n",
    "    integerList += f\"i{layer}, \"\n",
    "\n",
    "\n",
    "Str = integerList[:-2]\n",
    "print(f\"\\ninteger {Str};\")"
   ]
  },
  {
   "cell_type": "code",
   "execution_count": 101,
   "metadata": {},
   "outputs": [
    {
     "name": "stdout",
     "output_type": "stream",
     "text": [
      "always_comb begin\n",
      "    for (i0 = 0; i0 < order/2; i0=i0+2) begin \n",
      "        layer0Acc[i0] <= multiplyResult[i0]+multiplyResult[i0+1];\n",
      "    end\n",
      "    for (i1 = 0; i1 < order/4; i1=i1+2) begin\n",
      "        layer1Acc[i1] <= layer0Acc[i1] + layer0Acc[i1+1];\n",
      "    end\n",
      "    for (i2 = 0; i2 < order/8; i2=i2+2) begin\n",
      "        layer2Acc[i2] <= layer1Acc[i2] + layer1Acc[i2+1];\n",
      "    end\n",
      "    for (i3 = 0; i3 < order/16; i3=i3+2) begin\n",
      "        layer3Acc[i3] <= layer2Acc[i3] + layer2Acc[i3+1];\n",
      "    end\n",
      "    for (i4 = 0; i4 < order/32; i4=i4+2) begin\n",
      "        layer4Acc[i4] <= layer3Acc[i4] + layer3Acc[i4+1];\n",
      "    end\n",
      "    for (i5 = 0; i5 < order/64; i5=i5+2) begin\n",
      "        layer5Acc[i5] <= layer4Acc[i5] + layer4Acc[i5+1];\n",
      "    end\n",
      "end\n",
      "\n",
      "assign output_signal_y = layer5Acc[1] + layer5Acc[0];\n"
     ]
    }
   ],
   "source": [
    "# printing out adder tree stages\n",
    "\n",
    "print(\"always_comb begin\")\n",
    "print(\"    for (i0 = 0; i0 < order/2; i0=i0+2) begin \\n        layer0Acc[i0] <= multiplyResult[i0]+multiplyResult[i0+1];\\n    end\")\n",
    "for layer in range (1, numLayers) :\n",
    "    d = 2**(layer+1)\n",
    "    i = f\"i{layer}\"\n",
    "    print(f\"    for ({i} = 0; {i} < order/{d}; {i}={i}+2) begin\")\n",
    "    print(f\"        layer{layer}Acc[{i}] <= layer{layer-1}Acc[{i}] + layer{layer-1}Acc[{i}+1];\")\n",
    "    print(\"    end\")\n",
    "print(\"end\")\n",
    "\n",
    "print(f\"\\nassign output_signal_y = layer{numLayers-1}Acc[1] + layer{numLayers-1}Acc[0];\")"
   ]
  },
  {
   "cell_type": "code",
   "execution_count": 139,
   "metadata": {},
   "outputs": [
    {
     "name": "stdout",
     "output_type": "stream",
     "text": [
      "-764, -965, -1236, -1588, -2004, -2443, -2832, -3071, -3041, -2608, -1637, 0, 2405, 5646, 9747, 14676, 20348, 26618, 33288, 40120, 46842, 53167, 58813, 63516, 67051, 69245, 69989, 69245, 67051, 63516, 58813, 53167, 46842, 40120, 33288, 26618, 20348, 14676, 9747, 5646, 2405, 0, -1637, -2608, -3041, -3071, -2832, -2443, -2004, -1588, -1236, -965, -764, 0, 0, 0, 0, 0, 0, 0, 0, 0, 0, 0\n"
     ]
    }
   ],
   "source": [
    "import math\n",
    "# zero padding FIR coefficients\n",
    "h = [\n",
    "    -764 ,\n",
    "    -965 ,\n",
    "    -1236 ,\n",
    "    -1588 ,\n",
    "    -2004 ,\n",
    "    -2443 ,\n",
    "    -2832 ,\n",
    "    -3071 ,\n",
    "    -3041 ,\n",
    "    -2608 ,\n",
    "    -1637 ,\n",
    "    0 ,\n",
    "    2405 ,\n",
    "    5646 ,\n",
    "    9747 ,\n",
    "    14676 ,\n",
    "    20348 ,\n",
    "    26618 ,\n",
    "    33288 ,\n",
    "    40120 ,\n",
    "    46842 ,\n",
    "    53167 ,\n",
    "    58813 ,\n",
    "    63516 ,\n",
    "    67051 ,\n",
    "    69245 ,\n",
    "    69989 ,\n",
    "    69245 ,\n",
    "    67051 ,\n",
    "    63516 ,\n",
    "    58813 ,\n",
    "    53167 ,\n",
    "    46842 ,\n",
    "    40120 ,\n",
    "    33288 ,\n",
    "    26618 ,\n",
    "    20348 ,\n",
    "    14676 ,\n",
    "    9747 ,\n",
    "    5646 ,\n",
    "    2405 ,\n",
    "    0 ,\n",
    "    -1637 ,\n",
    "    -2608 ,\n",
    "    -3041 ,\n",
    "    -3071 ,\n",
    "    -2832 ,\n",
    "    -2443 ,\n",
    "    -2004 ,\n",
    "    -1588 ,\n",
    "    -1236 ,\n",
    "    -965 ,\n",
    "    -764\n",
    "]\n",
    "\n",
    "ceil = math.ceil(math.log2(len(h)))\n",
    "order = 2**ceil\n",
    "\n",
    "numIters = order - len(h)\n",
    "\n",
    "for i in range (numIters) :\n",
    "    h.append(0)\n",
    "\n",
    "Str = str(h)\n",
    "Str = Str[1:-1]\n",
    "\n",
    "print(Str)"
   ]
  }
 ],
 "metadata": {
  "kernelspec": {
   "display_name": "base",
   "language": "python",
   "name": "python3"
  },
  "language_info": {
   "codemirror_mode": {
    "name": "ipython",
    "version": 3
   },
   "file_extension": ".py",
   "mimetype": "text/x-python",
   "name": "python",
   "nbconvert_exporter": "python",
   "pygments_lexer": "ipython3",
   "version": "3.10.9"
  }
 },
 "nbformat": 4,
 "nbformat_minor": 2
}
