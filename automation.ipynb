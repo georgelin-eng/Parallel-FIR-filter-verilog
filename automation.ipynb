{
 "cells": [
  {
   "cell_type": "code",
   "execution_count": 1,
   "metadata": {},
   "outputs": [],
   "source": [
    "import subprocess\n",
    "import re\n",
    "\n",
    "# Function to synthesize designs\n",
    "def synthesize_design(design_name):\n",
    "    subprocess.run(['quartus_sh', '-t', 'synthesis_script.tcl', design_name])\n",
    "\n",
    "# Function to extract Fmax from logs\n",
    "def extract_fmax(log_file):\n",
    "    with open(log_file, 'r') as file:\n",
    "        log_data = file.read()\n",
    "        fmax_match = re.search(r'Maximum Frequency:\\s+(\\d+\\.\\d+)', log_data)\n",
    "        if fmax_match:\n",
    "            return float(fmax_match.group(1))\n",
    "        else:\n",
    "            return None\n",
    "\n",
    "# Synthesize designs\n",
    "designs = ['design1', 'design2']\n",
    "for design in designs:\n",
    "    synthesize_design(design)\n",
    "\n",
    "# Extract Fmax values and compare\n",
    "fmax_values = {}\n",
    "for design in designs:\n",
    "    fmax = extract_fmax(f'{design}.log')\n",
    "    if fmax is not None:\n",
    "        fmax_values[design] = fmax\n",
    "\n",
    "# Compare Fmax values\n",
    "if len(fmax_values) == len(designs):\n",
    "    print(\"Fmax Values:\")\n",
    "    for design, fmax in fmax_values.items():\n",
    "        print(f\"{design}: {fmax} MHz\")\n",
    "    # Perform further comparisons or analysis as needed\n",
    "else:\n",
    "    print(\"Error: Failed to extract Fmax values for all designs.\")\n"
   ]
  }
 ],
 "metadata": {
  "kernelspec": {
   "display_name": "base",
   "language": "python",
   "name": "python3"
  },
  "language_info": {
   "codemirror_mode": {
    "name": "ipython",
    "version": 3
   },
   "file_extension": ".py",
   "mimetype": "text/x-python",
   "name": "python",
   "nbconvert_exporter": "python",
   "pygments_lexer": "ipython3",
   "version": "3.10.9"
  }
 },
 "nbformat": 4,
 "nbformat_minor": 2
}
